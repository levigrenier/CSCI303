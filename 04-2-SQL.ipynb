{
 "cells": [
  {
   "cell_type": "markdown",
   "metadata": {},
   "source": [
    "## Project 4-2 : Data Acquisition SQL"
   ]
  },
  {
   "cell_type": "markdown",
   "metadata": {},
   "source": [
    "## Assignment Instructions\n",
    "\n",
    "### Description\n",
    "\n",
    "Some SQL problems.\n",
    "\n",
    "### Grading\n",
    "\n",
    "For grading purposes, we will clear all outputs from all your cells and then run them all from the top.  Please test your notebook in the same fashion before turning it in.\n",
    "\n",
    "### Submitting Your Solution\n",
    "\n",
    "To submit your notebook, first clear all the cells (this won't matter too much this time, but for larger data sets in the future, it will make the file smaller).  Then use the File->Download As->Notebook to obtain the notebook file.  Finally, submit the notebook file on Canvas."
   ]
  },
  {
   "cell_type": "code",
   "execution_count": null,
   "metadata": {
    "scrolled": true
   },
   "outputs": [],
   "source": [
    "import numpy as np\n",
    "import pandas as pd\n",
    "from pandas import Series, DataFrame\n",
    "from sqlalchemy import create_engine, inspect"
   ]
  },
  {
   "cell_type": "markdown",
   "metadata": {},
   "source": [
    "### Problem: SQL (50 points)\n",
    "\n",
    "Use the csci303 database downloaded in class and code provided (12-SQL_New) to answer the following questions.  Note that you can answer every one of these questions just with single SQL queries, but you are free to instead pull data into pandas and answer the questions that way, or use multiple queries, etc.\n",
    "\n",
    "The data you'll be working with is from the [Bureau of Labor Statistics](https://www.bls.gov/emp/documentation/education-training-system.htm).\n",
    "<br>There are three tables:\n",
    "- `occupation_codes` provides a mapping between two different organization's occupation codes and titles.  You'll need this table to lookup occupation codes for the other two tables.\n",
    "- `occupation_attainments` gives the percentages of workers (aged 25 or older) in each occupation (in 2014-2015) who had attained a particular level of education.\n",
    "- `occupation_assignments` gives requirements for each occupation in terms of education, experience, and on-the-job training.\n",
    "\n",
    "The code to inspect the names and types of the columns in thses tables is given below. Feel free to comment this out once you get a feel for the table structures."
   ]
  },
  {
   "cell_type": "markdown",
   "metadata": {},
   "source": [
    "## SET UP\n",
    "\n",
    "To set up we have to create an inspector on the database to get the information we need! To do so we will follow these steps:\n",
    "1. Create a Database variable, this holds the name of the database you downloaded for this assignment!\n",
    "2. Create an inspector object and create_engine on the database object from # 1\n",
    "3. Print out information from the database to gain a better understanding of what it contains!"
   ]
  },
  {
   "cell_type": "markdown",
   "metadata": {},
   "source": [
    "---\n",
    "\n",
    "**Questions for Set Up (Edit this cell):**\n",
    "\n",
    "---\n",
    "\n",
    "(a) What is the variable type of the acs_code column?\n",
    "\n",
    "It is an integer.\n",
    "    \n",
    "(b) What does the 'Real' column type mean?\n",
    "\n",
    "It is like a float, but it has a size of 4 bytes (whereas a float can change sizes depending on the value it holds). Further, the range of the real data type is more restricted than that of the float. \n",
    "\n",
    "(c) What column(s) are shared amongst the three tables? This is how they are related!!\n",
    "\n",
    "The column \"soc_code\" is shared by all three tables. It has a text variable type."
   ]
  },
  {
   "cell_type": "code",
   "execution_count": null,
   "metadata": {},
   "outputs": [],
   "source": [
    "#FINISH THIS CODE\n",
    "\n",
    "dburi = 'sqlite:///csci303.sqlite3' # Data base connection!\n",
    "inspector = inspect(create_engine(dburi)) # Here we have created an inspector to take a look at the db!\n",
    "\n",
    "tables = list(filter(lambda name: \"occupation\" in name, inspector.get_table_names()))\n",
    "\n",
    "# Loop through the tables list and print all of the table names and columns\n",
    "for table in tables:\n",
    "    print(\"Table name: \", table) # Print the table name (table)\n",
    "    for column in inspector.get_columns(table): # Print the column name and type, think of the column as a dataframe, column['xxx']\n",
    "        print(\"Column name: %s: %s\" % (column['name'], column['type'])) # TODO enter in what you want from the columns\n",
    "    print()"
   ]
  },
  {
   "cell_type": "markdown",
   "metadata": {},
   "source": [
    "---\n",
    "\n",
    "**Questions for Problem 2 (Edit this cell):**\n",
    "\n",
    "---\n",
    "\n",
    "(a) What are the SOC and ACS codes for 'Database administrators ' - (this may have a space at the end)?\n",
    "\n",
    "SOC code: 15-1141\n",
    "\n",
    "ACS code: 1060\n",
    "\n",
    "(b) How many SOC occupation titles are there grouped under the ACS title 'Postsecondary teachers'?\n",
    "\n",
    "There are 38 occupation titles. \n",
    "\n",
    "(c) How much education and prior experience do you typically need to become a software developer?\n",
    "\n",
    "Bachelor's degree and no prior experience. \n",
    "\n",
    "(d) What SOC occupation has the highest percentage of doctoral or professional degree holders?\n",
    "\n",
    "Podiatrists.\n",
    "\n",
    "\n",
    "EXTRA CREDIT: (5pts) What acs_title has the longest length? (There are two right answers!)"
   ]
  },
  {
   "cell_type": "code",
   "execution_count": null,
   "metadata": {},
   "outputs": [],
   "source": [
    "# YOUR CODE HERE\n",
    "inspector.get_table_names()\n",
    "\n",
    "# Problem 2a\n",
    "p2a = pd.read_sql_query(\"SELECT soc_title, soc_code, acs_code FROM occupation_codes WHERE soc_title LIKE 'Database administrators%%'\", dburi)\n",
    "print(f\"The SOC code for database administrators is {p2a.loc[0][1]}\\n\")\n",
    "\n",
    "# Problem 2b\n",
    "query = \"\"\"\n",
    "SELECT DISTINCT soc_title \n",
    "FROM occupation_codes \n",
    "WHERE acs_title \n",
    "LIKE 'Postsecondary teachers'\n",
    "\"\"\"\n",
    "p2b = pd.read_sql_query(query, dburi)\n",
    "print(f\"There are {len(p2b)} occupations listed under the ACS title of \\\"Postsecondary teachers\\\"\\n\")\n",
    "\n",
    "# Problem 2c\n",
    "query = \"\"\"\n",
    "SELECT c.soc_title, a.education, a.experience\n",
    "FROM occupation_codes AS c, occupation_assignments AS a\n",
    "WHERE c.soc_code = a.soc_code\n",
    "AND c.soc_title LIKE 'Software developer%%'\n",
    "\"\"\"\n",
    "p2c = pd.read_sql_query(query, dburi)\n",
    "print(f\"{p2c.loc[0]['soc_title']}\\n   Education: {p2c.loc[0]['education']}\\n   Experience: {p2c.loc[0]['experience']}\")\n",
    "print(f\"{p2c.loc[1]['soc_title']}\\n   Education: {p2c.loc[1]['education']}\\n   Experience: {p2c.loc[1]['experience']}\\n\")\n",
    "\n",
    "# Problem 2d\n",
    "query = \"\"\"\n",
    "SELECT c.soc_title, at.doctoral_or_professional\n",
    "FROM occupation_codes AS c, occupation_attainments AS at\n",
    "WHERE c.soc_code = at.soc_code\n",
    "ORDER BY at.doctoral_or_professional DESC\n",
    "\"\"\"\n",
    "p2d = pd.read_sql_query(query, dburi)\n",
    "print(f\"The SOC occupation with the highest percentage of doctoral or professional degree holders is {str.lower(str.strip(p2d.iloc[0][0]))} at {p2d.iloc[0][1]}%.\")\n"
   ]
  },
  {
   "cell_type": "markdown",
   "metadata": {},
   "source": [
    "### Questionnaire\n",
    "1) How long did you spend on this assignment?\n",
    "<br> About an hour and a half. Had some trouble with SQLAlchemy and pip install.<br>\n",
    "2) What did you like about it? What did you not like about it?\n",
    "<br> I  liked that we got to use SQL, but not being able to see the data set was kind of difficult. <br>\n",
    "3) Did you find any errors or is there anything you would like changed?\n",
    "<br> No errors that I saw. Nothing I'd want changed. <br>"
   ]
  }
 ],
 "metadata": {
  "kernelspec": {
   "display_name": "Python 3 (ipykernel)",
   "language": "python",
   "name": "python3"
  },
  "language_info": {
   "codemirror_mode": {
    "name": "ipython",
    "version": 3
   },
   "file_extension": ".py",
   "mimetype": "text/x-python",
   "name": "python",
   "nbconvert_exporter": "python",
   "pygments_lexer": "ipython3",
   "version": "3.9.12"
  }
 },
 "nbformat": 4,
 "nbformat_minor": 2
}
