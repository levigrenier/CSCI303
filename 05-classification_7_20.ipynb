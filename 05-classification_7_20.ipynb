{
 "cells": [
  {
   "cell_type": "markdown",
   "metadata": {
    "id": "snMo9ZsfZrjJ"
   },
   "source": [
    "## Project 5 : Classification"
   ]
  },
  {
   "cell_type": "markdown",
   "metadata": {
    "id": "FD5coBt7ZrjM"
   },
   "source": [
    "## Instructions\n",
    "\n",
    "### Description\n",
    "\n",
    "Practice classification on the Titanic dataset.\n",
    "\n",
    "### Grading\n",
    "\n",
    "For grading purposes, we will clear all outputs from all your cells and then run them all from the top.  Please test your notebook in the same fashion before turning it in.\n",
    "\n",
    "### Submitting Your Solution\n",
    "\n",
    "To submit your notebook, first clear all the cells (this won't matter too much this time, but for larger data sets in the future, it will make the file smaller).  Then use the File->Download As->Notebook to obtain the notebook file.  Finally, submit the notebook file on Canvas.\n"
   ]
  },
  {
   "cell_type": "code",
   "execution_count": null,
   "metadata": {
    "id": "Qy1IWSV2ZrjN"
   },
   "outputs": [],
   "source": [
    "import pandas as pd\n",
    "import numpy as np\n",
    "import sklearn as sk\n",
    "import matplotlib.pyplot as plt\n",
    "import seaborn as sns\n",
    "\n",
    "plt.style.use('ggplot')\n",
    "\n",
    "%matplotlib inline\n",
    "%config InlineBackend.figure_format = 'retina'"
   ]
  },
  {
   "cell_type": "markdown",
   "metadata": {
    "collapsed": true,
    "id": "yTgZ8xwPZrjO"
   },
   "source": [
    "### Introduction\n",
    "\n",
    "On April 15, 1912, the largest passenger liner ever made collided with an iceberg during her maiden voyage. When the Titanic sank it killed 1502 out of 2224 passengers and crew. This sensational tragedy shocked the international community and led to better safety regulations for ships. One of the reasons that the shipwreck resulted in such loss of life was that there were not enough lifeboats for the passengers and crew. Although there was some element of luck involved in surviving the sinking, some groups of people were more likely to survive than others.\n",
    "\n",
    "Intro Videos: \n",
    "https://www.youtube.com/watch?v=3lyiZMeTKIo\n",
    "and\n",
    "https://www.youtube.com/watch?v=ItjXTieWKyI \n",
    "\n",
    "The `titanic_data.csv` file contains data for `887` of the real Titanic passengers. Each row represents one person. The columns describe different attributes about the person including whether they survived (`0=No`), their age, their passenger-class (`1=1st Class, Upper`), gender, and the fare they paid (£s*). For more on the currency: http://www.statisticalconsultants.co.nz/blog/titanic-fare-data.html\n",
    "\n",
    "We are going to try to see if there are correlations between the feature data provided (find a best subset of features) and passenger survival."
   ]
  },
  {
   "cell_type": "markdown",
   "metadata": {
    "id": "Yo2wAo3vZrjO"
   },
   "source": [
    "### Problem 1: Load and understand the data (35 points)\n",
    "\n",
    "#### Your task (some of this is the work you completed for L14 - be sure to copy that work into here as needed)\n",
    "Conduct some preprocessing steps to explore the following and provide code/answers in the below cells:\n",
    "1. Load the `titanic_data.csv` file into a pandas dataframe\n",
    "2. Explore the data provided (e.g., looking at statistics using describe(), value_counts(), histograms, scatter plots of various features, etc.) \n",
    "3. What are the names of feature columns that appear to be usable for learning?\n",
    "4. What is the name of the column that appears to represent our target?\n",
    "5. Formulate a hypothesis about the relationship between given feature data and the target\n",
    "6. How did Pclass affect passenngers' chances of survival?\n",
    "7. What is the age distribution of survivors?"
   ]
  },
  {
   "cell_type": "code",
   "execution_count": null,
   "metadata": {
    "id": "g_FdHGWgZrjP"
   },
   "outputs": [],
   "source": [
    "# Step 1. Load the `titanic_data.csv` file into a pandas dataframe\n",
    "df = pd.read_csv(\"titanic_data.csv\")"
   ]
  },
  {
   "cell_type": "code",
   "execution_count": null,
   "metadata": {
    "id": "W39VMl34ZrjP"
   },
   "outputs": [],
   "source": [
    "# Step 2. Explore the data provided (e.g., looking at statistics using describe(), value_counts(), histograms, scatter plots of various features, etc.) \n",
    "print(df.describe())\n",
    "\n",
    "test=df['Sex'].value_counts()\n",
    "labels = test.keys()\n",
    "plt.bar(labels,df.where(df['Survived']==1)['Sex'].value_counts(), color='blue')\n",
    "plt.bar(labels,df.where(df['Survived']==0)['Sex'].value_counts(), \n",
    "        bottom=df.where(df['Survived']==1)['Sex'].value_counts(), color='red')\n",
    "legend = [\"Survived\",\"Died\"]\n",
    "plt.legend(legend)\n",
    "plt.xticks(labels)\n",
    "plt.xlabel(\"Sex\")\n",
    "plt.ylabel(\"Count\")\n",
    "plt.title(\"Sex and Survival\")\n",
    "plt.show()\n",
    "\n",
    "# I like contingency tables. Sorry if this is too many... \n",
    "# Parents/Children Aboard Survival\n",
    "data_crosstab = pd.crosstab(df[\"Survived\"], df[\"Parents/Children Aboard\"], margins = True)\n",
    "print(f\"{data_crosstab}\\n\")\n",
    "\n",
    "# Siblings/Spouses Aboard Survival\n",
    "data_crosstab = pd.crosstab(df[\"Survived\"], df[\"Siblings/Spouses Aboard\"], margins = True)\n",
    "print(f\"{data_crosstab}\\n\")\n",
    "\n",
    "# I've transferred my exploratory plots for Pclass and Age to the appropriate questions (6 and 7)"
   ]
  },
  {
   "cell_type": "markdown",
   "metadata": {
    "id": "8P3MyrYvZrjP"
   },
   "source": [
    "---\n",
    "\n",
    "**Edit this cell to provide answers to the following steps:**\n",
    "\n",
    "---\n",
    "\n",
    "Step 3. What are the names of feature columns that appear to be usable for learning?\n",
    "\n",
    "    Well. It seems that \"Pclass\", \"Siblings/Parents Aboard\", \"Age\", and \"Sex\" are good indicators.\n",
    "\n",
    "Step 4. What is the name of the column that appears to represent our target?\n",
    "\n",
    "    Our target column is \"Survived\".\n",
    "\n",
    "Step 5. Formulate a hypothesis about the relationship between given feature data and the target\n",
    "\n",
    "    I hypothesize that the variable of age and sex will be most useful for survival prediction because of the \"women and children first\" mentality on the ship that night.\n",
    "    "
   ]
  },
  {
   "cell_type": "code",
   "execution_count": null,
   "metadata": {
    "id": "UT2-1I86ZrjQ"
   },
   "outputs": [],
   "source": [
    "#Step 6. How did Pclass affect passenngers' chances of survival?\n",
    "#Show your work with a bar plot, dataframe selection, or visual of your choice.\n",
    "\n",
    "# Pclass and Survival\n",
    "test=df['Pclass'].value_counts()\n",
    "labels = test.keys()\n",
    "plt.bar(labels,df.where(df['Survived']==1)['Pclass'].value_counts(), color='blue')\n",
    "plt.bar(labels,df.where(df['Survived']==0)['Pclass'].value_counts(), bottom = df.where(df['Survived']==1)['Pclass'].value_counts(), color='red')\n",
    "legend = [\"Survived\",\"Died\"]\n",
    "plt.legend(legend)\n",
    "plt.title(\"Pclass and Survival\")\n",
    "plt.xticks(labels)\n",
    "plt.xlabel(\"Class\")\n",
    "plt.ylabel(\"Count\")\n",
    "plt.show()\n",
    "\n",
    "# Passenger Class Survival\n",
    "data_crosstab = pd.crosstab(df[\"Survived\"], df[\"Pclass\"], margins = True)\n",
    "print(f\"{data_crosstab}\\n\")"
   ]
  },
  {
   "cell_type": "markdown",
   "metadata": {},
   "source": [
    "We can see that the first class passengers had a much higher survival rate than the second and third class passengers. The third class passengers will be especially useful in our model because of how small a proportion survived."
   ]
  },
  {
   "cell_type": "code",
   "execution_count": null,
   "metadata": {
    "id": "beX7g2S2ZrjQ"
   },
   "outputs": [],
   "source": [
    "#Step 7. What is the age distribution of survivors?\n",
    "#Show your work with a dataframe operation and/or histogram plot.\n",
    "\n",
    "ax1 = df[\"Age\"].hist(bins = 40)\n",
    "ax1.set(xlabel=\"Age\", ylabel=\"Frequency\", title = \"Age Histogram\")\n",
    "plt.show()\n",
    "\n",
    "test=df['Age'].value_counts()\n",
    "labels = test.keys()\n",
    "fig, (ax1, ax2) = plt.subplots(2, sharex=True, sharey = True)\n",
    "fig.suptitle('Age and Survival')\n",
    "ax1.hist(df.where(df['Survived']==0)['Age'], color='blue', label = \"Died\")\n",
    "ax2.hist(df.where(df['Survived']==1)['Age'], color='red', label = \"Survived\")\n",
    "fig.legend()\n",
    "fig.supxlabel(\"Age\")\n",
    "fig.supylabel(\"Count\")\n",
    "plt.show()\n"
   ]
  },
  {
   "cell_type": "markdown",
   "metadata": {
    "id": "Ei9hTK4wZrjR"
   },
   "source": [
    "### Problem 2: transform the data (10 points)\n",
    "The `Sex` column is categorical, meaning its data are separable into groups, but not numerical. To be able to work with this data, we need numbers, so you task is to transform the `Sex` column into numerical data with pandas' `get_dummies` feature and remove the original categorical `Sex` column."
   ]
  },
  {
   "cell_type": "code",
   "execution_count": null,
   "metadata": {
    "id": "wcBPWipsZrjR"
   },
   "outputs": [],
   "source": [
    "df = pd.get_dummies(df, columns = [\"Sex\"])\n",
    "df = df.drop(['Sex_male'], axis=1)\n",
    "df.head()"
   ]
  },
  {
   "cell_type": "markdown",
   "metadata": {
    "id": "XipNK7BMZrjR"
   },
   "source": [
    "### Problem 3: Classification (30 points)\n",
    "Now that the data is transformed, we want to run various classification experiments on it. The first is `K Nearest Neighbors`, which you will conduct by:\n",
    "\n",
    "1. Define input and target data by creating lists of dataframe columns (e.g., inputs = ['Pclass', etc.)\n",
    "2. Split the data into training and testing sets with `train_test_split()`\n",
    "3. Create a `KNeighborsClassifier` using `5` neighbors at first (you can experiment with this parameter)\n",
    "4. Train your model by passing the training dataset to `fit()`\n",
    "5. Calculate predicted target values(y_hat) by passing the testing dataset to `predict()`\n",
    "6. Print the accuracy of the model with `score()`\n",
    "\n",
    "** Note: If you get a python warning as you use the Y, trainY, or testY vector in some of the function calls about \"DataConversionWarning: A column-vector y was passed when a 1d array was expected. Please change the shape of y to (n_samples, )\", you can look up how to use trainY.values.ravel() or trainY.values.flatten() or another function, etc."
   ]
  },
  {
   "cell_type": "code",
   "execution_count": null,
   "metadata": {
    "id": "tbb25y7RZrjS"
   },
   "outputs": [],
   "source": [
    "# Creating Input/Target Data\n",
    "inputs = df[[\"Pclass\",\"Age\",\"Siblings/Spouses Aboard\",\"Sex_female\"]]\n",
    "target = df[\"Survived\"]"
   ]
  },
  {
   "cell_type": "code",
   "execution_count": null,
   "metadata": {
    "id": "pS7mNB05ZrjS"
   },
   "outputs": [],
   "source": [
    "# Splitting Input and Target into training and testing portions\n",
    "from sklearn.model_selection import train_test_split\n",
    "X_train, X_test, y_train, y_test = train_test_split(inputs, target, test_size=0.5)"
   ]
  },
  {
   "cell_type": "code",
   "execution_count": null,
   "metadata": {
    "id": "yk-xmVtEZrjS"
   },
   "outputs": [],
   "source": [
    "# Creating Model\n",
    "from sklearn.neighbors import KNeighborsClassifier\n",
    "k = 5\n",
    "model_neighbors = KNeighborsClassifier(k)\n",
    "model_neighbors.fit(X_train,y_train)\n",
    "y_hat = model_neighbors.predict(X_test)\n",
    "model_neighbors.score(X_test, y_test)"
   ]
  },
  {
   "cell_type": "markdown",
   "metadata": {
    "id": "l9prt7aTZrjS"
   },
   "source": [
    "### Problem 4: Cross validation, classification report (15 points)\n",
    "- Using the concepts from the 17-model_selection slides and the [`cross_val_score`](http://scikit-learn.org/stable/modules/generated/sklearn.model_selection.cross_val_score.html) function from scikit-learn, estimate the f-score ([`f1-score`](http://scikit-learn.org/stable/modules/generated/sklearn.metrics.f1_score.html#sklearn.metrics.f1_score) (you can use however many folds you wish). To get `cross_val_score` to use `f1-score` rather than the default accuracy measure, you will need to set the `scoring` parameter and use a scorer object created via [`make_scorer`](http://scikit-learn.org/stable/modules/generated/sklearn.metrics.make_scorer.html#sklearn.metrics.make_scorer).  Since this has a few parts to it, let me just give you that parameter: ```scorerVar = make_scorer(f1_score, pos_label=1)```\n",
    "\n",
    "- Using the concepts from the end of the 14-classification slides, output a confusion matrix.\n",
    "\n",
    "- Also, output a classification report [`classification_report`](http://scikit-learn.org/stable/modules/generated/sklearn.metrics.classification_report.html) from sklearn.metrics showing more of the metrics: precision, recall, f1-score for both of our classes."
   ]
  },
  {
   "cell_type": "code",
   "execution_count": null,
   "metadata": {
    "id": "Ud5y-XedZrjT",
    "scrolled": false
   },
   "outputs": [],
   "source": [
    "from sklearn import metrics\n",
    "from sklearn.metrics import confusion_matrix, f1_score, classification_report, make_scorer\n",
    "from sklearn import model_selection\n",
    "\n",
    "# Getting the f1-score through cross validation\n",
    "scorerVar = make_scorer(f1_score, pos_label=1)\n",
    "score = model_selection.cross_val_score(model_neighbors, X_test, y_test, cv = 5, scoring = scorerVar)\n",
    "print(f\"Our estimated f1-value is: {sum(score)/len(score)}\\n\")\n",
    "\n",
    "# Confusion Matrix\n",
    "conf_matrix = sk.metrics.confusion_matrix(y_test, y_hat)\n",
    "print(f\"Our confusion matrix: \\n{conf_matrix}\\n\")\n",
    "\n",
    "# Classification Report\n",
    "class_report = metrics.classification_report(y_test, y_hat)\n",
    "print(f\"Our classifications report: \\n{class_report}\")"
   ]
  },
  {
   "cell_type": "markdown",
   "metadata": {
    "id": "6KRHtfpZZrjT"
   },
   "source": [
    "### Problem 5: Support Vector Machines (15 points)\n",
    "Now, repeat the above experiment using the using a Support Vector classifier [`SVC`](http://scikit-learn.org/stable/modules/generated/sklearn.svm.SVC.html) with default parameters (RBF kernel) model in scikit-learn, and output:\n",
    "\n",
    "- The fit accuracy (using the `score` method of the model)\n",
    "- The f-score (using the [`cross_val_score`](http://scikit-learn.org/stable/modules/generated/sklearn.model_selection.cross_val_score.html) function)\n",
    "- The confusion matrix\n",
    "- The precision, recall, and f-measure for the 1 class (you can just print the results of the [`classification_report`](http://scikit-learn.org/stable/modules/generated/sklearn.metrics.classification_report.html) function from sklearn.metrics)"
   ]
  },
  {
   "cell_type": "code",
   "execution_count": null,
   "metadata": {
    "id": "zGjGEZD6ZrjT"
   },
   "outputs": [],
   "source": [
    "from sklearn.svm import SVC\n",
    "from sklearn.model_selection import cross_val_score\n",
    "\n",
    "#create a model object\n",
    "model_svm = SVC(kernel='linear', C=10)\n",
    "\n",
    "#train our model\n",
    "model_svm.fit(X_train, y_train)\n",
    "\n",
    "#evaluate the model \n",
    "testing_accu = model_svm.score(X_test, y_test)\n",
    "y_hat = model_svm.predict(X_test)\n",
    "print(f\"Testing accuracy: {testing_accu}\\n\")\n",
    "\n",
    "#setup to get f-score and cv\n",
    "scorerVar = make_scorer(f1_score, pos_label=1)\n",
    "score = model_selection.cross_val_score(model_svm, X_test, y_test, cv = 5, scoring = scorerVar)\n",
    "print(f\"Our estimated f1-value for the SVM model is: {sum(score)/len(score)}\\n\")\n",
    "\n",
    "#confusion matrix\n",
    "conf_matrix = sk.metrics.confusion_matrix(y_test, y_hat)\n",
    "print(f\"Our confusion matrix: \\n{conf_matrix}\\n\")\n",
    "\n",
    "#classification report\n",
    "class_report = metrics.classification_report(y_test, y_hat)\n",
    "print(f\"Our classifications report: \\n{class_report}\")\n"
   ]
  },
  {
   "cell_type": "markdown",
   "metadata": {
    "id": "WSDsdQFOZrjU"
   },
   "source": [
    "### Problem 6: Logistic Regression (15 points)\n",
    "\n",
    "Now, repeat the above experiment using the [`LogisticRegression`](http://scikit-learn.org/stable/modules/generated/sklearn.linear_model.LogisticRegression.html) model in scikit-learn, and output:\n",
    "\n",
    "- The fit accuracy (using the `score` method of the model)\n",
    "- The f-score (using the [`cross_val_score`](http://scikit-learn.org/stable/modules/generated/sklearn.model_selection.cross_val_score.html) function)\n",
    "- The confusion matrix\n",
    "- The precision, recall, and f-measure for the 1 class (you can just print the results of the [`classification_report`](http://scikit-learn.org/stable/modules/generated/sklearn.metrics.classification_report.html) function from sklearn.metrics)"
   ]
  },
  {
   "cell_type": "code",
   "execution_count": null,
   "metadata": {
    "id": "nnZIwTdPZrjU"
   },
   "outputs": [],
   "source": [
    "from sklearn.linear_model import LogisticRegression\n",
    "\n",
    "#create a model object\n",
    "model_log = LogisticRegression()\n",
    "\n",
    "#train our model\n",
    "model_log.fit(X_train, y_train)\n",
    "\n",
    "#evaluate the model \n",
    "testing_accu = model_log.score(X_test, y_test)\n",
    "y_hat = model_log.predict(X_test)\n",
    "print(f\"Testing accuracy: {testing_accu}\\n\")\n",
    "\n",
    "#setup to get f-score and cv\n",
    "scorerVar = make_scorer(f1_score, pos_label=1)\n",
    "score = model_selection.cross_val_score(model_svm, X_test, y_test, cv = 5, scoring = scorerVar)\n",
    "print(f\"Our estimated f1-value is: {sum(score)/len(score)}\\n\")\n",
    "\n",
    "#confusion matrix\n",
    "conf_matrix = sk.metrics.confusion_matrix(y_test, y_hat)\n",
    "print(f\"Our confusion matrix: \\n{conf_matrix}\\n\")\n",
    "\n",
    "#classification report\n",
    "class_report = metrics.classification_report(y_test, y_hat)\n",
    "print(f\"Our classifications report: \\n{class_report}\")"
   ]
  },
  {
   "cell_type": "markdown",
   "metadata": {
    "id": "fWmwls34ZrjU"
   },
   "source": [
    "### Problem 7: Comparision and Discussion (5 points)\n",
    "Edit this cell to provide a brief discussion (3-5 sentances at most):\n",
    "1. What was the model/algorithm that performed best for you?\n",
    "\n",
    "    The model that worked best for me was the logistic regression. The weighted average for precision and recall for this model was 0.82 (given my train_test_split, of course).\n",
    "\n",
    "\n",
    "2. What feaures and parameters were used to achieve that performance?\n",
    "\n",
    "    I used the Age, Siblings/Spouse Aboard, Pclass, and Sex_female as my features. \n",
    "\n",
    "\n",
    "3. What insights did you gain from your experimentation about the predictive power of this dataset and did it match your original hypothesis about the relationship between given feature data and the target?\n",
    "    \n",
    "    We see that this is pretty decent at predicting survivors. I am not so thrilled with the accuracy (basically 80%), but I suppose that's pretty impressive given the coarseness of the data I've fed the model. \n"
   ]
  },
  {
   "cell_type": "markdown",
   "metadata": {
    "id": "IZLuk1FmZrjU"
   },
   "source": [
    "### Questionnaire\n",
    "1) How long did you spend on this assignment?\n",
    "<br>About five hours.<br>\n",
    "2) What did you like about it? What did you not like about it?\n",
    "<br>I liked the dataset. I did not like the plotting stuff at the beginning as it took me the longest.<br>\n",
    "3) Did you find any errors or is there anything you would like changed?\n",
    "<br>Nope.<br>"
   ]
  }
 ],
 "metadata": {
  "anaconda-cloud": {},
  "colab": {
   "name": "05-classification_7_20.ipynb",
   "provenance": []
  },
  "kernelspec": {
   "display_name": "Python 3 (ipykernel)",
   "language": "python",
   "name": "python3"
  },
  "language_info": {
   "codemirror_mode": {
    "name": "ipython",
    "version": 3
   },
   "file_extension": ".py",
   "mimetype": "text/x-python",
   "name": "python",
   "nbconvert_exporter": "python",
   "pygments_lexer": "ipython3",
   "version": "3.9.12"
  }
 },
 "nbformat": 4,
 "nbformat_minor": 1
}
