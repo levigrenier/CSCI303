{
 "cells": [
  {
   "cell_type": "markdown",
   "metadata": {},
   "source": [
    "# Project 2 : Visualization"
   ]
  },
  {
   "cell_type": "markdown",
   "metadata": {},
   "source": [
    "## Instructions\n",
    "\n",
    "### Description\n",
    "\n",
    "In this project, you will look at three bad visualizations then:\n",
    "\n",
    "1. Identify what makes them bad\n",
    "1. Use the same data to make a better chart\n",
    "1. Explain an interesting pattern you noticed.\n",
    "\n",
    "Some helpful questions to determine if a visualization is bad:\n",
    "\n",
    "1. What is the visualization trying to show? Ex. Comparison? Relationship? Change over time?\n",
    "2. Is this the right visualization to use?\n",
    "3. Does the visualization have the correct labels and axes limits?\n",
    "4. Is there too much being shown in one visualization? Should it be split?\n",
    "\n",
    "Some helpful questions to find patterns in a visualization:\n",
    "\n",
    "1. How do different data points compare? Are there significant differences? Are there any outliers?\n",
    "2. If comparing data/series, how do they rank? Is there a significant difference between rankings?\n",
    "3. If looking at data over time, is there any seasonality? How do the values compare to the mean and/or median? How do the values change over time? Ex. Ups and downs? Always up? Always down?\n",
    "\n",
    "### Getting Started\n",
    "\n",
    "The lecture on data visualization (available in the usual places) has a lot of code examples.  Also don't forget the matplotlib documentation available from the Help menu in the notebook.\n",
    "\n",
    "Also, this is the first assignment we've given where we ask you to provide text answers and not just code. You don't have to get fancy, but you'll want to use Markdown to write up your answers.  There is Markdown help available from the Help menu as well.\n",
    "\n",
    "### Grading\n",
    "\n",
    "For grading purposes, we will clear all outputs from all your cells and then run them all from the top.  Please test your notebook in the same fashion before turning it in.\n",
    "\n",
    "### Submitting Your Solution\n",
    "\n",
    "To submit your notebook, first clear all the cells (this won't matter too much this time, but for larger data sets in the future, it will make the file smaller).  Then use the File->Download As->Notebook to obtain the notebook file.  Finally, submit the notebook file on Canvas.\n",
    "\n",
    "### Credits\n",
    "\n",
    "Many thanks to Saad Elbeleidy for this assignment!"
   ]
  },
  {
   "cell_type": "markdown",
   "metadata": {},
   "source": [
    "### Setup Code"
   ]
  },
  {
   "cell_type": "code",
   "execution_count": null,
   "metadata": {},
   "outputs": [],
   "source": [
    "## Imports\n",
    "import matplotlib.pyplot as plt\n",
    "import matplotlib.mlab as mlab\n",
    "import numpy as np\n",
    "import pandas as pd\n",
    "%matplotlib inline\n",
    "%config InlineBackend.figure_format = 'retina'"
   ]
  },
  {
   "cell_type": "markdown",
   "metadata": {},
   "source": [
    "### Problem 1: Bad line chart (15 points)"
   ]
  },
  {
   "cell_type": "markdown",
   "metadata": {},
   "source": [
    "To get you started, we'll walk through 1 bad visualization.\n",
    "\n",
    "![Bad Line Chart](http://imgur.com/kB6uNZC.png)"
   ]
  },
  {
   "cell_type": "code",
   "execution_count": null,
   "metadata": {},
   "outputs": [],
   "source": [
    "# Bad line chart data & names\n",
    "badLineNames = [\"2016 Q1\", \"2016 Q2\", \"2016 Q3\", \"2016 Q4\"]\n",
    "badLineProduct1 = [240, 300, 280, 400]\n",
    "badLineProduct2 = [300, 320, 150, 160]\n",
    "badLineProduct3 = [120, 140, 180, 160]\n",
    "badLineProduct4 = [380, 400, 450, 500]"
   ]
  },
  {
   "cell_type": "markdown",
   "metadata": {},
   "source": [
    "**What makes this visualization bad?**\n",
    "\n",
    "**1. What is the visualization trying to show? Ex. Comparison? Relationship? Change over time?**\n",
    "\n",
    "This visualization trys to show data over time.\n",
    "\n",
    "**2. Is this the right visualization to use?**\n",
    "\n",
    "Yes, we should be using a line chart to show data over time.\n",
    "\n",
    "**3. Does the visualization have the correct labels and axes limits?**\n",
    "\n",
    "There are no labels or a title. We could also use some more space between the min and maximum data points and the axes limits.\n",
    "\n",
    "**4. Is there too much being shown in one visualization? Should it be split?**\n",
    "\n",
    "Yes, it's quite difficult to follow each series, it should be split.\n",
    "\n",
    "\n",
    "Since the chart type is the correct one, it seems all we need to do is add labels and split the lines into panels. Before we do that, we can probably also improve the design. We covered how to improve a `matplotlib` plot in class using different styles. Select a `style` and apply it below."
   ]
  },
  {
   "cell_type": "code",
   "execution_count": null,
   "metadata": {},
   "outputs": [],
   "source": [
    "## Apply your chosen style here\n",
    "plt.style.use('seaborn-whitegrid')"
   ]
  },
  {
   "cell_type": "markdown",
   "metadata": {},
   "source": [
    "example of how to set up subplots can be found in lecture 05, slide 13. "
   ]
  },
  {
   "cell_type": "markdown",
   "metadata": {},
   "source": [
    "Now we need to plot the data over different panels. We can use [`plt.subplots`](http://matplotlib.org/api/pyplot_api.html#matplotlib.pyplot.subplots) to create multiple panels. Since we have 4 products, we're going to need 4 panels on top of each other. `subplots` returns two variables, the figure object and an array of axes. What we can do is loop through each Axes object and create a plot for that product. The first Axes object should plot the first product, the second should plot the second product and so on.\n",
    "<br><br>\n",
    "**Step 1: Buffers** \n",
    "<br>Each subplot will have its own y axis, but to make the scale is the same for all subplots, create a buffer between the lowest value among all products and the start of the y axis as well as between the highest value and the top of the y axis. These buffers are simply integers that extend the y axis above the highest value in the products, and below the lowest.\n",
    "<br><br>\n",
    "**Step 2: Mean**\n",
    "<br>Calculate the mean of the entire data set -- the mean of the individual product means. To calculate this easily, first put the products in a list, create a list of the individual means using a comprehension over the product list, then find the mean of the list of individual means.\n",
    "<br><br>\n",
    "**Step 3: Colors**\n",
    "<br>Choose a color for the plot of each product. This can be done by filling a list with each color's matplotlib name. Available colors can be found [here](https://matplotlib.org/2.0.2/api/colors_api.html)\n",
    "<br><br>\n",
    "**Step 4: Subplots** \n",
    "<br>Now that those numbers are calculated, create 4 line charts on top of each other, each plotting one of the products.\n",
    "<br>For each subplot:\n",
    "<br>\n",
    "1) plot the product with `plot(data, color)`\n",
    "<br>\n",
    "2) Set the y scale using `set_ylim(bottomBuffer, topBuffer)`\n",
    "<br>\n",
    "3) Add an x label if this panel is not the bottom one using `set_xticklabels(list of labels)`\n",
    "<br>\n",
    "4) Add a title to the subplot with the product number using `set_title(title)`\n",
    "<br>\n",
    "5) Add a dashed line with the value of the mean using `plot(mean, args)` or `axhline(mean, args)`. More info [here](https://matplotlib.org/api/_as_gen/matplotlib.axes.Axes.axhline.html)\n",
    "<br><br>\n",
    "**Step 5: Beautify**\n",
    "<br>\n",
    "1) Add a title to the whole diagram(the superplot) with `fig.suptitle(title)`\n",
    "<br>\n",
    "2) Rearrange subplots, if necessary, with `fig.subplots_adjust(left, bottom, right, top, wspace, hspace)`\n",
    "<br><br>\n",
    "**Notes:**\n",
    "<br>\n",
    "- Many of the arguments to many of these functions are 'default', meaning they're optional. If there's an argument you don't need or want, try leaving it out. For example, if you only want to change the hspace of the subplots, you can call `fig.subplot_adjust(hspace=0.6)` without specifying the other arguments. Just be sure to label the argument you want to specify. Don't just write `fig.subplot_adjust(0.6)`"
   ]
  },
  {
   "cell_type": "code",
   "execution_count": null,
   "metadata": {},
   "outputs": [],
   "source": [
    "# Step 1\n",
    "buffer = 15\n",
    "badProducts = [badLineProduct1, badLineProduct2, badLineProduct3, badLineProduct4]\n",
    "topBuffer = max(max(badProducts[0]),max(badProducts[1]),max(badProducts[2]),max(badProducts[3])) + buffer\n",
    "bottomBuffer = min(min(badProducts[0]),min(badProducts[1]),min(badProducts[2]),min(badProducts[3])) - buffer\n",
    "\n",
    "# Step 2\n",
    "mean = np.mean([np.mean(x) for x in badProducts])\n",
    "\n",
    "# Step 3\n",
    "colors = [\"b\", \"r\", \"y\", \"g\"]\n",
    "\n",
    "# Step 4\n",
    "fig, pltAxes = plt.subplots(ncols=1, nrows=4)\n",
    "axes = pltAxes.ravel()\n",
    "\n",
    "for i, ax in enumerate(axes):\n",
    "    ax.plot(badLineNames, badProducts[i],colors[i], label=\"Bad Product {} Sales\".format(i+1))\n",
    "    ax.set_ylim(bottomBuffer, topBuffer)\n",
    "    ax.set_ylabel(\"Units Sold\")\n",
    "    ax.set_title(\"Bad Product {}\".format(i+1), fontsize=14) \n",
    "    ax.axhline(mean, color = 'k', linestyle = ':', label = \"Collective Mean\", linewidth = 2)\n",
    "    ax.legend(loc = \"best\", frameon = True) \n",
    "    \n",
    "# Step 5\n",
    "fig.suptitle(\"The Sales Report of the Bad Product Line\", fontsize=20)\n",
    "fig.subplots_adjust(hspace=.3)\n",
    "fig.set_figheight(14)\n",
    "fig.set_figwidth(7)\n",
    "\n",
    "\n",
    "\n"
   ]
  },
  {
   "cell_type": "markdown",
   "metadata": {},
   "source": [
    "Now that you've created a better plot, try to describe a pattern in the dataset. Use the following questions as a reference:\n",
    "\n",
    "1. How do different data points compare? Are there significant differences? Are there any outliers?\n",
    "2. If comparing data/series, how do they rank? Is there a significant difference between rankings?\n",
    "3. If looking at data over time, is there any seasonality? How do the values compare to the mean and/or median? How do the values change over time? Ex. Ups and downs? Always up? Always down?"
   ]
  },
  {
   "cell_type": "markdown",
   "metadata": {},
   "source": [
    "**Your Answer Here:**\n",
    "\n",
    "> It seems like the sales of products 1 and 2 are related in some way. I think this because both have the same up-down-up pattern but they look to be scaled differently. This observation also applies to the sales of products 3 and 4 as they balance each other's magnitude of sales relative to the mean. However, product 4 goes up-up-up and producct 3 goes up-up-down, so I'm less convinced of a relationship for the increase (i.e. slope) of sales between products 3 and 4."
   ]
  },
  {
   "cell_type": "markdown",
   "metadata": {},
   "source": [
    "Next, look through the following bad visualizations and apply the above workflow to:\n",
    "\n",
    "1. Determine what makes them bad\n",
    "1. Create a better visualization\n",
    "1. Describe a pattern in the data"
   ]
  },
  {
   "cell_type": "markdown",
   "metadata": {},
   "source": [
    "### Problem 2: Bad pie chart (20 points)\n",
    "\n",
    "Explain why this visualization is a bad one:\n",
    "\n",
    "![Bad Pie Chart](http://imgur.com/Wg9DOZd.png)"
   ]
  },
  {
   "cell_type": "markdown",
   "metadata": {},
   "source": [
    "**Your Answer Here:**\n",
    "\n",
    ">The values do not add to unity. That's the point of a pie chart, so this application does not make sense. The pie chart looks like an oval. These colors are too bright. There is also no title, so I don't know what this data describes."
   ]
  },
  {
   "cell_type": "code",
   "execution_count": null,
   "metadata": {},
   "outputs": [],
   "source": [
    "badPieNames = [\"Golden\", \"Boulder\", \"Denver\", \"Colo Springs\"]\n",
    "badPieValues = [0.37, 0.4, 0.5, 0.35]"
   ]
  },
  {
   "cell_type": "code",
   "execution_count": null,
   "metadata": {},
   "outputs": [],
   "source": [
    "# Plot a better chart using this data\n",
    "plt.bar(badPieNames, badPieValues)\n",
    "plt.title(\"Proportion of a City's Population that Enjoys Mustard\", fontsize = 16)\n",
    "plt.ylabel(\"Proportion of City Population\")\n",
    "plt.show()\n",
    "\n"
   ]
  },
  {
   "cell_type": "markdown",
   "metadata": {},
   "source": [
    "Tell a story or describe a pattern using your new visualization."
   ]
  },
  {
   "cell_type": "markdown",
   "metadata": {},
   "source": [
    "**Your Answer Here:**\n",
    "\n",
    "> As a prosepctive student who is from Colorado Springs, I was looking for a university in a city that would be most agreeable to me. Particularly, I have a strong distaste for mustard and was looking to be surrounded by like-minded individuals without continuing to live in my hometown. This graph shows us what proportion of a city's population enjoys mustard. My hometown, Colorado Springs, has the lowest proportion. This is then followed up by Golden, Boulder, and then Denver. Given the mustard-climate of my prospective cities, I chose to apply to Mines on account of Golden's moral integrity towards the mustard-situation.\n",
    "\n",
    "> From this chart, we see that there a regional differences in how much a population enjoys mustard, but that usually 1 in 3 people who live in the given cities enjoy it."
   ]
  },
  {
   "cell_type": "markdown",
   "metadata": {},
   "source": [
    "### Problem 3: Bad bar chart 1 (20 points)\n",
    "\n",
    "Explain why this visualization is a bad one:\n",
    "\n",
    "![Bad Bar Chart](http://imgur.com/AkLyM9I.png)"
   ]
  },
  {
   "cell_type": "markdown",
   "metadata": {},
   "source": [
    "**Your Answer Here:**\n",
    "\n",
    ">I like using a bar chart, but for data where the difference between categorical variables is such a small percentage of the total height it seems that the purpose of the chart (to show the differences by category) is lost or over-emphasized (as it was over-emphasized in the above graph). Also, the navy color feels too strong. There are no labels or titles, so I have no clue what's happening. "
   ]
  },
  {
   "cell_type": "code",
   "execution_count": null,
   "metadata": {},
   "outputs": [],
   "source": [
    "badBarNames = [\"A\", \"B\", \"C\"]\n",
    "badBarValues = [240, 232, 251]"
   ]
  },
  {
   "cell_type": "code",
   "execution_count": null,
   "metadata": {},
   "outputs": [],
   "source": [
    "# Plot a better chart using this data\n",
    "percentChosen = [i/sum(badBarValues) for i in badBarValues]\n",
    "\n",
    "patches, texts, _ = plt.pie(percentChosen, autopct='%1.1f%%')\n",
    "\n",
    "# I Used StackExchange to learn how to keep the legend from overlapping. Not sure if that's allowed.\n",
    "plt.legend(patches, badBarNames,bbox_to_anchor=(0.9,0.2), loc=\"lower right\", bbox_transform=plt.gcf().transFigure) \n",
    "\n",
    "plt.show()"
   ]
  },
  {
   "cell_type": "markdown",
   "metadata": {},
   "source": [
    "Tell a story or describe a pattern using your new visualization."
   ]
  },
  {
   "cell_type": "markdown",
   "metadata": {},
   "source": [
    "**Your Answer Here:**\n",
    "\n",
    ">Whenever I come across a tough decision with three options to choose from, I give my little brother a call and ask him the following: \"Pick a random letter. A, B, or C.\" Over the years, I've asked him this question thousands of times. About two years ago, I began to get an uneasy feeling that he was simply picking \"C\" every time. So, for the last 721 times I've called him, I've recorded his answer.\n",
    "\n",
    "> In the above pie chart, we see the percentage of times that he has chosen each letter. As we can see, he has chosen \"C\" more than we should expect for a truly random decision. A hypothesis test would be required to show that my younger brother is truly non-random, but we may assume that he is largely random in his letter choices. In conclusion, we see that the pattern is a general avoidance of pattern, that is to say: randomness."
   ]
  },
  {
   "cell_type": "markdown",
   "metadata": {},
   "source": [
    "### Problem 4: Bad bar chart 2 (20 points)\n",
    "\n",
    "Explain why this visualization is a bad one:\n",
    "\n",
    "![Bad Bar Chart](http://imgur.com/Ns3lgyp.png)"
   ]
  },
  {
   "cell_type": "markdown",
   "metadata": {},
   "source": [
    "**Your Answer Here:**\n",
    "\n",
    "> I'll admit, I do slightly like the use of a bar chart here. It is more appropriate to use a line chart in this scenario as we are trying to show a change over time. I also think this navy color is too much. There is no title, so I am not sure what this data is referencing. Further, there is no y axis label, so I do not know what is being measured for each month."
   ]
  },
  {
   "cell_type": "code",
   "execution_count": null,
   "metadata": {},
   "outputs": [],
   "source": [
    "badBar2Names = [\"Jan\", \"Feb\", \"Mar\", \"Apr\", \"May\", \"Jun\", \"Jul\", \"Aug\", \"Sep\", \"Oct\", \"Nov\", \"Dec\"]\n",
    "badBar2Values = [240, 320, 360, 280, 290, 300, 500, 410, 390, 200, 220, 240]"
   ]
  },
  {
   "cell_type": "code",
   "execution_count": null,
   "metadata": {},
   "outputs": [],
   "source": [
    "# Plot a better chart using this data\n",
    "plt.plot(badBar2Values, \"o-\")\n",
    "plt.xticks(range(len(badBar2Values)),badBar2Names)\n",
    "plt.title(\"Sunglasses Purchased at the Mall Kiosk, Annual Data\", fontsize=15)\n",
    "plt.ylabel(\"Number of Sunglasses Sold\")\n",
    "plt.ylim(min(badBar2Values) - 50, max(badBar2Values) + 50)\n",
    "plt.show()"
   ]
  },
  {
   "cell_type": "markdown",
   "metadata": {},
   "source": [
    "Tell a story or describe a pattern using your new visualization."
   ]
  },
  {
   "cell_type": "markdown",
   "metadata": {},
   "source": [
    "**Your Answer Here:**\n",
    "\n",
    ">The sunglasses kiosk at the Park Meadows Mall experiences large fluctuations in the number of units sold over the course of a given year. Here, we have plotted the number of sunglasses sold (in a given month) over the course of a year. We see that there is a spike in sunglasses purchases in February and March. (This is likely due to the fashion-forward crowd hoping to get a pair of \"in-season\" glasses before spring break.) After that, we see a steady number of purchases. (These are likely caused by the casual customer looking for a pair before the summer picks up.) We see the largest spike in the months of July-September. (Because it's so bright and hot.) Finally, we see a dramatic fall in purchases for the final three months of the year. (Likely due to the overcast weather.) \n",
    "\n",
    "> We see that there are predictable spikes in sunglasses purchases for a given year that may be explained by the weather and apophenia. "
   ]
  },
  {
   "cell_type": "markdown",
   "metadata": {},
   "source": [
    "### Questionnaire\n",
    "1) How long did you spend on this assignment?\n",
    "<br>I spent around three and a half hours.<br>\n",
    "2) What did you like about it? What did you not like about it?\n",
    "<br>I would have liked some more guidance on specific points about the data that I should make. Also some more context about the data might have been nice. I'm not sure if my \"tell a story... about the data\" approach was what you meant.<br>\n",
    "3) Did you find any errors or is there anything you would like changed?\n",
    "<br>Nope.<br>"
   ]
  }
 ],
 "metadata": {
  "anaconda-cloud": {},
  "kernelspec": {
   "display_name": "Python 3 (ipykernel)",
   "language": "python",
   "name": "python3"
  },
  "language_info": {
   "codemirror_mode": {
    "name": "ipython",
    "version": 3
   },
   "file_extension": ".py",
   "mimetype": "text/x-python",
   "name": "python",
   "nbconvert_exporter": "python",
   "pygments_lexer": "ipython3",
   "version": "3.9.12"
  }
 },
 "nbformat": 4,
 "nbformat_minor": 2
}
